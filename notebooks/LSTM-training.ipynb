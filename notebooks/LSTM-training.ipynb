{
 "cells": [
  {
   "cell_type": "markdown",
   "id": "752e4396-5ed2-49b2-a450-6aeb7d0d89c3",
   "metadata": {},
   "source": [
    "# LSTM model training on stock data\n",
    "* TF/Keras\n",
    "* time series data in the csv format\n",
    "* model training with NeptuneCallback enabled for easy logging"
   ]
  },
  {
   "cell_type": "code",
   "execution_count": null,
   "id": "4fe955cd-45a0-4016-a3cf-1681ffc17f65",
   "metadata": {},
   "outputs": [],
   "source": [
    "import glob\n",
    "\n",
    "import neptune.new as neptune\n",
    "import numpy as np\n",
    "import pandas as pd\n",
    "from matplotlib import pyplot as plt\n",
    "from neptune.new.integrations.tensorflow_keras import NeptuneCallback\n",
    "from sklearn.metrics import mean_absolute_error, mean_squared_error\n",
    "\n",
    "from src.feature_exgineering import prepare_data_for_lstm\n",
    "from src.model import get_model"
   ]
  },
  {
   "cell_type": "code",
   "execution_count": null,
   "id": "5ff7d7c1-76d0-42ee-87f8-195ff355cc92",
   "metadata": {},
   "outputs": [],
   "source": [
    "np.random.seed(9476)\n",
    "path_to_data = \"data/BAJAJFINSV.csv\"\n",
    "stock_name = \"BAJAJFINSV\""
   ]
  },
  {
   "cell_type": "markdown",
   "id": "f6c2d263-fde5-438a-8a26-523478f99b10",
   "metadata": {},
   "source": [
    "## Define model training parameters"
   ]
  },
  {
   "cell_type": "code",
   "execution_count": null,
   "id": "4ab1d581-6efb-43f5-ad7f-c87ef7bc6141",
   "metadata": {},
   "outputs": [],
   "source": [
    "params = {\n",
    "    \"loss\": \"mean_squared_error\",\n",
    "    \"optimizer\": \"adam\",\n",
    "    \"dropout\": 0.2,\n",
    "    \"lstm_units\": 30,\n",
    "    \"epochs\": 10,\n",
    "    \"batch_size\": 128\n",
    "}"
   ]
  },
  {
   "cell_type": "markdown",
   "id": "997eb3c5-a5ff-4a21-9072-9ebf4f43722e",
   "metadata": {},
   "source": [
    "## Create Neptune run"
   ]
  },
  {
   "cell_type": "code",
   "execution_count": null,
   "id": "e0efdb6f-8fae-4518-be33-bcb2cc13c6a9",
   "metadata": {},
   "outputs": [],
   "source": [
    "run = neptune.init(project=\"common/project-time-series-forecasting\",\n",
    "                   tags=[\"lstm\", \"keras\"])"
   ]
  },
  {
   "cell_type": "markdown",
   "id": "936e8c8a-61ab-439e-924e-374d64a05744",
   "metadata": {},
   "source": [
    "## Log model params and stock name to the run"
   ]
  },
  {
   "cell_type": "code",
   "execution_count": null,
   "id": "9207a8a1-61ae-4d32-a4ec-00cb5284f05d",
   "metadata": {},
   "outputs": [],
   "source": [
    "run[\"LSTM/params\"] = params\n",
    "run[\"info/stock_name\"] = stock_name"
   ]
  },
  {
   "cell_type": "markdown",
   "id": "50f8a72d-ed82-4977-9eb6-223a691cfe37",
   "metadata": {},
   "source": [
    "## Prepare data for model training"
   ]
  },
  {
   "cell_type": "code",
   "execution_count": null,
   "id": "b6f59f73-2b6c-46a1-a1c8-28327a228707",
   "metadata": {},
   "outputs": [],
   "source": [
    "# load time series data (stock prices)\n",
    "df = pd.read_csv(path_to_data)\n",
    "df['Date'] = pd.to_datetime(df.Date, format='%Y-%m-%d')\n",
    "df.index = df['Date']\n",
    "\n",
    "ax = df.VWAP.plot(figsize=(9, 6))\n",
    "ax.grid(\"both\")\n",
    "\n",
    "# (neptune) log VWAP chart as an interactive visualization\n",
    "run[\"visualizations/VWAP_chart\"] = neptune.types.File.as_image(ax.figure)\n",
    "plt.close(\"all\")\n",
    "\n",
    "# feature engineering and train/valid split\n",
    "valid_date_split = \"2019\"\n",
    "x_train, y_train, x_test, scaler, df_test = prepare_data_for_lstm(df, valid_date_split)\n",
    "\n",
    "# (neptune) log year for train/valid split\n",
    "run[\"valid/split\"] = valid_date_split"
   ]
  },
  {
   "cell_type": "markdown",
   "id": "5c910c15-7d54-4fa1-8d25-81f77b71cc53",
   "metadata": {},
   "source": [
    "## Prepare model and NeptuneCallback and run training with Keras"
   ]
  },
  {
   "cell_type": "code",
   "execution_count": null,
   "id": "6ddc35cb-a287-4754-918b-91379efc2c67",
   "metadata": {},
   "outputs": [],
   "source": [
    "model = get_model(params=params, input_shape=x_train.shape[1])\n",
    "\n",
    "# (neptune) use TF-Keras integration to log training metrics\n",
    "neptune_callback = NeptuneCallback(run, base_namespace=\"training\")\n",
    "\n",
    "model.fit(\n",
    "    x_train,\n",
    "    y_train,\n",
    "    epochs=params[\"epochs\"],\n",
    "    batch_size=params[\"batch_size\"],\n",
    "    verbose=1,\n",
    "    callbacks=[neptune_callback]\n",
    ")\n",
    "\n",
    "preds = model.predict(x_test)\n",
    "preds = scaler.inverse_transform(preds)\n",
    "df_test[\"Forecast_LSTM\"] = preds\n",
    "\n",
    "ax = df_test[[\"VWAP\", \"Forecast_LSTM\"]].plot(figsize=(9, 6))\n",
    "ax.grid(\"both\")"
   ]
  },
  {
   "cell_type": "markdown",
   "id": "2bd1e0f8-55f2-4947-adbb-c924927a97e4",
   "metadata": {},
   "source": [
    "## After training, log forecasts, model test scores and model weights to Neptune"
   ]
  },
  {
   "cell_type": "code",
   "execution_count": null,
   "id": "27e07a7a-92a9-4c97-9f76-bf3ec1c9fa45",
   "metadata": {},
   "outputs": [],
   "source": [
    "# (neptune) log data and forecast as an interactive chart\n",
    "run[\"visualizations/VWAP-forecast\"] = neptune.types.File.as_html(ax.figure)\n",
    "plt.close(\"all\")\n",
    "\n",
    "# (neptune) log final metrics\n",
    "run[\"valid/rmse\"] = np.sqrt(mean_squared_error(df_test.VWAP, df_test.Forecast_LSTM))\n",
    "run[\"valid/mae\"] = mean_absolute_error(df_test.VWAP, df_test.Forecast_LSTM)\n",
    "\n",
    "# (neptune) save model weights\n",
    "model.save('model_weights')\n",
    "run[\"LSTM/model_weights/saved_model.pb\"].upload('model_weights/saved_model.pb')\n",
    "for name in glob.glob('model_weights/variables/*'):\n",
    "    run[\"LSTM/{}\".format(name)].upload(name)"
   ]
  },
  {
   "cell_type": "code",
   "execution_count": null,
   "id": "dc67f02b-cc7e-44c3-8059-95516832ed64",
   "metadata": {},
   "outputs": [],
   "source": []
  }
 ],
 "metadata": {
  "kernelspec": {
   "display_name": "Python 3 (ipykernel)",
   "language": "python",
   "name": "python3"
  },
  "language_info": {
   "codemirror_mode": {
    "name": "ipython",
    "version": 3
   },
   "file_extension": ".py",
   "mimetype": "text/x-python",
   "name": "python",
   "nbconvert_exporter": "python",
   "pygments_lexer": "ipython3",
   "version": "3.7.10"
  }
 },
 "nbformat": 4,
 "nbformat_minor": 5
}
