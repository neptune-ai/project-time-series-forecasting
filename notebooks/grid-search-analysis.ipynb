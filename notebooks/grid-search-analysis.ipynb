{
 "cells": [
  {
   "cell_type": "markdown",
   "id": "20f17797-d505-4751-b21c-a617d346769f",
   "metadata": {},
   "source": [
    "# Analyse grid search results"
   ]
  },
  {
   "cell_type": "code",
   "execution_count": null,
   "id": "d4a4fc48-dfcb-4d85-9c74-a682629cbced",
   "metadata": {},
   "outputs": [],
   "source": [
    "import neptune.new as neptune\n",
    "import pandas as pd"
   ]
  },
  {
   "cell_type": "markdown",
   "id": "0b90d7c3-0f75-48df-9dd5-22794575f7b6",
   "metadata": {},
   "source": [
    "## Fetch project"
   ]
  },
  {
   "cell_type": "code",
   "execution_count": null,
   "id": "a578b183-b290-4420-8f63-ef7707cb2a60",
   "metadata": {},
   "outputs": [],
   "source": [
    "project = neptune.get_project(name=\"common/project-time-series-forecasting\")"
   ]
  },
  {
   "cell_type": "markdown",
   "id": "cbdb7ee7-e91f-4240-8582-eb85db5022f2",
   "metadata": {},
   "source": [
    "## Fetch runs with \"grid-search\" tag as pandas DataFrame"
   ]
  },
  {
   "cell_type": "code",
   "execution_count": null,
   "id": "42d9a20e-fc9e-4531-9e16-edea28f16923",
   "metadata": {},
   "outputs": [],
   "source": [
    "runs_table_df = project.fetch_runs_table(tag=\"grid-search\").to_pandas()"
   ]
  },
  {
   "cell_type": "markdown",
   "id": "3a037409-e77a-4bdf-b83d-b914753148a2",
   "metadata": {},
   "source": [
    "## Get DataFrame with scores"
   ]
  },
  {
   "cell_type": "code",
   "execution_count": null,
   "id": "3e88f646-d845-4181-aff8-a6caae30fbf8",
   "metadata": {},
   "outputs": [],
   "source": [
    "scores_df = runs_table_df[[\"sys/id\", \"valid/prophet/rmse\", \"valid/prophet/mae\"]]\n",
    "scores_df"
   ]
  },
  {
   "cell_type": "markdown",
   "id": "c662a8f4-d824-45b3-8395-6f38562f6ff2",
   "metadata": {},
   "source": [
    "## Visualize as box plot"
   ]
  },
  {
   "cell_type": "code",
   "execution_count": null,
   "id": "701c493c-e1d5-4af1-a9f5-2d1e447e04ec",
   "metadata": {},
   "outputs": [],
   "source": [
    "scores_df.boxplot(figsize=(10, 10), fontsize=26)"
   ]
  }
 ],
 "metadata": {
  "kernelspec": {
   "display_name": "Python 3",
   "language": "python",
   "name": "python3"
  },
  "language_info": {
   "codemirror_mode": {
    "name": "ipython",
    "version": 3
   },
   "file_extension": ".py",
   "mimetype": "text/x-python",
   "name": "python",
   "nbconvert_exporter": "python",
   "pygments_lexer": "ipython3",
   "version": "3.6.13"
  },
  "neptune": {
   "notebookId": "b69b7aac-0bc1-4591-a092-bec985e2e1d1",
   "projectVersion": 2
  }
 },
 "nbformat": 4,
 "nbformat_minor": 5
}
